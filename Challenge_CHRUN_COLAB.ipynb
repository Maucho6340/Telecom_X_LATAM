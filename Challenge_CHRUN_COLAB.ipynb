{
  "nbformat": 4,
  "nbformat_minor": 0,
  "metadata": {
    "colab": {
      "provenance": [],
      "authorship_tag": "ABX9TyNcRhf3Oz76oWaF+AjPKDgs",
      "include_colab_link": true
    },
    "kernelspec": {
      "name": "python3",
      "display_name": "Python 3"
    },
    "language_info": {
      "name": "python"
    }
  },
  "cells": [
    {
      "cell_type": "markdown",
      "metadata": {
        "id": "view-in-github",
        "colab_type": "text"
      },
      "source": [
        "<a href=\"https://colab.research.google.com/github/Maucho6340/Telecom_X_LATAM/blob/main/Challenge_CHRUN_COLAB.ipynb\" target=\"_parent\"><img src=\"https://colab.research.google.com/assets/colab-badge.svg\" alt=\"Open In Colab\"/></a>"
      ]
    },
    {
      "cell_type": "code",
      "execution_count": null,
      "metadata": {
        "id": "VGLel_7ByWPe"
      },
      "outputs": [],
      "source": []
    },
    {
      "cell_type": "markdown",
      "source": [
        "# **CHRUN DE CLIENTES**"
      ],
      "metadata": {
        "id": "0VO1cpZ3ypLr"
      }
    },
    {
      "cell_type": "markdown",
      "source": [
        "# **EXTRACT**"
      ],
      "metadata": {
        "id": "pbsAyJpDiDgE"
      }
    },
    {
      "cell_type": "markdown",
      "source": [
        "URL: https://github.com/alura-cursos/challenge2-data-science-LATAM/blob/main/TelecomX_Data.json"
      ],
      "metadata": {
        "id": "A5PQrx2ly0Jd"
      }
    },
    {
      "cell_type": "code",
      "source": [
        "# Cargar los datos\n",
        "import pandas as pd\n",
        "import requests\n",
        "\n",
        "# Origen en GitHub\n",
        "url = \"https://raw.githubusercontent.com/alura-cursos/challenge2-data-science-LATAM/refs/heads/main/TelecomX_Data.json\"\n",
        "\n",
        "# Descarga datos desde la URL Github\n",
        "response = requests.get(url)\n",
        "data = response.json()  # Convertir JSON a diccionario o lista de Python\n",
        "\n",
        "# Crea el DataFrame\n",
        "df = pd.DataFrame(data)\n",
        "df.head(10)"
      ],
      "metadata": {
        "colab": {
          "base_uri": "https://localhost:8080/",
          "height": 363
        },
        "id": "wlhKIVQ4YyH4",
        "outputId": "2726a971-71f6-49f5-ab66-abce682e6d12"
      },
      "execution_count": 1,
      "outputs": [
        {
          "output_type": "execute_result",
          "data": {
            "text/plain": [
              "   customerID Churn                                           customer  \\\n",
              "0  0002-ORFBO    No  {'gender': 'Female', 'SeniorCitizen': 0, 'Part...   \n",
              "1  0003-MKNFE    No  {'gender': 'Male', 'SeniorCitizen': 0, 'Partne...   \n",
              "2  0004-TLHLJ   Yes  {'gender': 'Male', 'SeniorCitizen': 0, 'Partne...   \n",
              "3  0011-IGKFF   Yes  {'gender': 'Male', 'SeniorCitizen': 1, 'Partne...   \n",
              "4  0013-EXCHZ   Yes  {'gender': 'Female', 'SeniorCitizen': 1, 'Part...   \n",
              "5  0013-MHZWF    No  {'gender': 'Female', 'SeniorCitizen': 0, 'Part...   \n",
              "6  0013-SMEOE    No  {'gender': 'Female', 'SeniorCitizen': 1, 'Part...   \n",
              "7  0014-BMAQU    No  {'gender': 'Male', 'SeniorCitizen': 0, 'Partne...   \n",
              "8  0015-UOCOJ    No  {'gender': 'Female', 'SeniorCitizen': 1, 'Part...   \n",
              "9  0016-QLJIS    No  {'gender': 'Female', 'SeniorCitizen': 0, 'Part...   \n",
              "\n",
              "                                             phone  \\\n",
              "0   {'PhoneService': 'Yes', 'MultipleLines': 'No'}   \n",
              "1  {'PhoneService': 'Yes', 'MultipleLines': 'Yes'}   \n",
              "2   {'PhoneService': 'Yes', 'MultipleLines': 'No'}   \n",
              "3   {'PhoneService': 'Yes', 'MultipleLines': 'No'}   \n",
              "4   {'PhoneService': 'Yes', 'MultipleLines': 'No'}   \n",
              "5   {'PhoneService': 'Yes', 'MultipleLines': 'No'}   \n",
              "6   {'PhoneService': 'Yes', 'MultipleLines': 'No'}   \n",
              "7  {'PhoneService': 'Yes', 'MultipleLines': 'Yes'}   \n",
              "8   {'PhoneService': 'Yes', 'MultipleLines': 'No'}   \n",
              "9  {'PhoneService': 'Yes', 'MultipleLines': 'Yes'}   \n",
              "\n",
              "                                            internet  \\\n",
              "0  {'InternetService': 'DSL', 'OnlineSecurity': '...   \n",
              "1  {'InternetService': 'DSL', 'OnlineSecurity': '...   \n",
              "2  {'InternetService': 'Fiber optic', 'OnlineSecu...   \n",
              "3  {'InternetService': 'Fiber optic', 'OnlineSecu...   \n",
              "4  {'InternetService': 'Fiber optic', 'OnlineSecu...   \n",
              "5  {'InternetService': 'DSL', 'OnlineSecurity': '...   \n",
              "6  {'InternetService': 'Fiber optic', 'OnlineSecu...   \n",
              "7  {'InternetService': 'Fiber optic', 'OnlineSecu...   \n",
              "8  {'InternetService': 'DSL', 'OnlineSecurity': '...   \n",
              "9  {'InternetService': 'DSL', 'OnlineSecurity': '...   \n",
              "\n",
              "                                             account  \n",
              "0  {'Contract': 'One year', 'PaperlessBilling': '...  \n",
              "1  {'Contract': 'Month-to-month', 'PaperlessBilli...  \n",
              "2  {'Contract': 'Month-to-month', 'PaperlessBilli...  \n",
              "3  {'Contract': 'Month-to-month', 'PaperlessBilli...  \n",
              "4  {'Contract': 'Month-to-month', 'PaperlessBilli...  \n",
              "5  {'Contract': 'Month-to-month', 'PaperlessBilli...  \n",
              "6  {'Contract': 'Two year', 'PaperlessBilling': '...  \n",
              "7  {'Contract': 'Two year', 'PaperlessBilling': '...  \n",
              "8  {'Contract': 'Month-to-month', 'PaperlessBilli...  \n",
              "9  {'Contract': 'Two year', 'PaperlessBilling': '...  "
            ],
            "text/html": [
              "\n",
              "  <div id=\"df-3642db18-e5cd-48ca-b881-58bae06b9e81\" class=\"colab-df-container\">\n",
              "    <div>\n",
              "<style scoped>\n",
              "    .dataframe tbody tr th:only-of-type {\n",
              "        vertical-align: middle;\n",
              "    }\n",
              "\n",
              "    .dataframe tbody tr th {\n",
              "        vertical-align: top;\n",
              "    }\n",
              "\n",
              "    .dataframe thead th {\n",
              "        text-align: right;\n",
              "    }\n",
              "</style>\n",
              "<table border=\"1\" class=\"dataframe\">\n",
              "  <thead>\n",
              "    <tr style=\"text-align: right;\">\n",
              "      <th></th>\n",
              "      <th>customerID</th>\n",
              "      <th>Churn</th>\n",
              "      <th>customer</th>\n",
              "      <th>phone</th>\n",
              "      <th>internet</th>\n",
              "      <th>account</th>\n",
              "    </tr>\n",
              "  </thead>\n",
              "  <tbody>\n",
              "    <tr>\n",
              "      <th>0</th>\n",
              "      <td>0002-ORFBO</td>\n",
              "      <td>No</td>\n",
              "      <td>{'gender': 'Female', 'SeniorCitizen': 0, 'Part...</td>\n",
              "      <td>{'PhoneService': 'Yes', 'MultipleLines': 'No'}</td>\n",
              "      <td>{'InternetService': 'DSL', 'OnlineSecurity': '...</td>\n",
              "      <td>{'Contract': 'One year', 'PaperlessBilling': '...</td>\n",
              "    </tr>\n",
              "    <tr>\n",
              "      <th>1</th>\n",
              "      <td>0003-MKNFE</td>\n",
              "      <td>No</td>\n",
              "      <td>{'gender': 'Male', 'SeniorCitizen': 0, 'Partne...</td>\n",
              "      <td>{'PhoneService': 'Yes', 'MultipleLines': 'Yes'}</td>\n",
              "      <td>{'InternetService': 'DSL', 'OnlineSecurity': '...</td>\n",
              "      <td>{'Contract': 'Month-to-month', 'PaperlessBilli...</td>\n",
              "    </tr>\n",
              "    <tr>\n",
              "      <th>2</th>\n",
              "      <td>0004-TLHLJ</td>\n",
              "      <td>Yes</td>\n",
              "      <td>{'gender': 'Male', 'SeniorCitizen': 0, 'Partne...</td>\n",
              "      <td>{'PhoneService': 'Yes', 'MultipleLines': 'No'}</td>\n",
              "      <td>{'InternetService': 'Fiber optic', 'OnlineSecu...</td>\n",
              "      <td>{'Contract': 'Month-to-month', 'PaperlessBilli...</td>\n",
              "    </tr>\n",
              "    <tr>\n",
              "      <th>3</th>\n",
              "      <td>0011-IGKFF</td>\n",
              "      <td>Yes</td>\n",
              "      <td>{'gender': 'Male', 'SeniorCitizen': 1, 'Partne...</td>\n",
              "      <td>{'PhoneService': 'Yes', 'MultipleLines': 'No'}</td>\n",
              "      <td>{'InternetService': 'Fiber optic', 'OnlineSecu...</td>\n",
              "      <td>{'Contract': 'Month-to-month', 'PaperlessBilli...</td>\n",
              "    </tr>\n",
              "    <tr>\n",
              "      <th>4</th>\n",
              "      <td>0013-EXCHZ</td>\n",
              "      <td>Yes</td>\n",
              "      <td>{'gender': 'Female', 'SeniorCitizen': 1, 'Part...</td>\n",
              "      <td>{'PhoneService': 'Yes', 'MultipleLines': 'No'}</td>\n",
              "      <td>{'InternetService': 'Fiber optic', 'OnlineSecu...</td>\n",
              "      <td>{'Contract': 'Month-to-month', 'PaperlessBilli...</td>\n",
              "    </tr>\n",
              "    <tr>\n",
              "      <th>5</th>\n",
              "      <td>0013-MHZWF</td>\n",
              "      <td>No</td>\n",
              "      <td>{'gender': 'Female', 'SeniorCitizen': 0, 'Part...</td>\n",
              "      <td>{'PhoneService': 'Yes', 'MultipleLines': 'No'}</td>\n",
              "      <td>{'InternetService': 'DSL', 'OnlineSecurity': '...</td>\n",
              "      <td>{'Contract': 'Month-to-month', 'PaperlessBilli...</td>\n",
              "    </tr>\n",
              "    <tr>\n",
              "      <th>6</th>\n",
              "      <td>0013-SMEOE</td>\n",
              "      <td>No</td>\n",
              "      <td>{'gender': 'Female', 'SeniorCitizen': 1, 'Part...</td>\n",
              "      <td>{'PhoneService': 'Yes', 'MultipleLines': 'No'}</td>\n",
              "      <td>{'InternetService': 'Fiber optic', 'OnlineSecu...</td>\n",
              "      <td>{'Contract': 'Two year', 'PaperlessBilling': '...</td>\n",
              "    </tr>\n",
              "    <tr>\n",
              "      <th>7</th>\n",
              "      <td>0014-BMAQU</td>\n",
              "      <td>No</td>\n",
              "      <td>{'gender': 'Male', 'SeniorCitizen': 0, 'Partne...</td>\n",
              "      <td>{'PhoneService': 'Yes', 'MultipleLines': 'Yes'}</td>\n",
              "      <td>{'InternetService': 'Fiber optic', 'OnlineSecu...</td>\n",
              "      <td>{'Contract': 'Two year', 'PaperlessBilling': '...</td>\n",
              "    </tr>\n",
              "    <tr>\n",
              "      <th>8</th>\n",
              "      <td>0015-UOCOJ</td>\n",
              "      <td>No</td>\n",
              "      <td>{'gender': 'Female', 'SeniorCitizen': 1, 'Part...</td>\n",
              "      <td>{'PhoneService': 'Yes', 'MultipleLines': 'No'}</td>\n",
              "      <td>{'InternetService': 'DSL', 'OnlineSecurity': '...</td>\n",
              "      <td>{'Contract': 'Month-to-month', 'PaperlessBilli...</td>\n",
              "    </tr>\n",
              "    <tr>\n",
              "      <th>9</th>\n",
              "      <td>0016-QLJIS</td>\n",
              "      <td>No</td>\n",
              "      <td>{'gender': 'Female', 'SeniorCitizen': 0, 'Part...</td>\n",
              "      <td>{'PhoneService': 'Yes', 'MultipleLines': 'Yes'}</td>\n",
              "      <td>{'InternetService': 'DSL', 'OnlineSecurity': '...</td>\n",
              "      <td>{'Contract': 'Two year', 'PaperlessBilling': '...</td>\n",
              "    </tr>\n",
              "  </tbody>\n",
              "</table>\n",
              "</div>\n",
              "    <div class=\"colab-df-buttons\">\n",
              "\n",
              "  <div class=\"colab-df-container\">\n",
              "    <button class=\"colab-df-convert\" onclick=\"convertToInteractive('df-3642db18-e5cd-48ca-b881-58bae06b9e81')\"\n",
              "            title=\"Convert this dataframe to an interactive table.\"\n",
              "            style=\"display:none;\">\n",
              "\n",
              "  <svg xmlns=\"http://www.w3.org/2000/svg\" height=\"24px\" viewBox=\"0 -960 960 960\">\n",
              "    <path d=\"M120-120v-720h720v720H120Zm60-500h600v-160H180v160Zm220 220h160v-160H400v160Zm0 220h160v-160H400v160ZM180-400h160v-160H180v160Zm440 0h160v-160H620v160ZM180-180h160v-160H180v160Zm440 0h160v-160H620v160Z\"/>\n",
              "  </svg>\n",
              "    </button>\n",
              "\n",
              "  <style>\n",
              "    .colab-df-container {\n",
              "      display:flex;\n",
              "      gap: 12px;\n",
              "    }\n",
              "\n",
              "    .colab-df-convert {\n",
              "      background-color: #E8F0FE;\n",
              "      border: none;\n",
              "      border-radius: 50%;\n",
              "      cursor: pointer;\n",
              "      display: none;\n",
              "      fill: #1967D2;\n",
              "      height: 32px;\n",
              "      padding: 0 0 0 0;\n",
              "      width: 32px;\n",
              "    }\n",
              "\n",
              "    .colab-df-convert:hover {\n",
              "      background-color: #E2EBFA;\n",
              "      box-shadow: 0px 1px 2px rgba(60, 64, 67, 0.3), 0px 1px 3px 1px rgba(60, 64, 67, 0.15);\n",
              "      fill: #174EA6;\n",
              "    }\n",
              "\n",
              "    .colab-df-buttons div {\n",
              "      margin-bottom: 4px;\n",
              "    }\n",
              "\n",
              "    [theme=dark] .colab-df-convert {\n",
              "      background-color: #3B4455;\n",
              "      fill: #D2E3FC;\n",
              "    }\n",
              "\n",
              "    [theme=dark] .colab-df-convert:hover {\n",
              "      background-color: #434B5C;\n",
              "      box-shadow: 0px 1px 3px 1px rgba(0, 0, 0, 0.15);\n",
              "      filter: drop-shadow(0px 1px 2px rgba(0, 0, 0, 0.3));\n",
              "      fill: #FFFFFF;\n",
              "    }\n",
              "  </style>\n",
              "\n",
              "    <script>\n",
              "      const buttonEl =\n",
              "        document.querySelector('#df-3642db18-e5cd-48ca-b881-58bae06b9e81 button.colab-df-convert');\n",
              "      buttonEl.style.display =\n",
              "        google.colab.kernel.accessAllowed ? 'block' : 'none';\n",
              "\n",
              "      async function convertToInteractive(key) {\n",
              "        const element = document.querySelector('#df-3642db18-e5cd-48ca-b881-58bae06b9e81');\n",
              "        const dataTable =\n",
              "          await google.colab.kernel.invokeFunction('convertToInteractive',\n",
              "                                                    [key], {});\n",
              "        if (!dataTable) return;\n",
              "\n",
              "        const docLinkHtml = 'Like what you see? Visit the ' +\n",
              "          '<a target=\"_blank\" href=https://colab.research.google.com/notebooks/data_table.ipynb>data table notebook</a>'\n",
              "          + ' to learn more about interactive tables.';\n",
              "        element.innerHTML = '';\n",
              "        dataTable['output_type'] = 'display_data';\n",
              "        await google.colab.output.renderOutput(dataTable, element);\n",
              "        const docLink = document.createElement('div');\n",
              "        docLink.innerHTML = docLinkHtml;\n",
              "        element.appendChild(docLink);\n",
              "      }\n",
              "    </script>\n",
              "  </div>\n",
              "\n",
              "\n",
              "    <div id=\"df-2f66a528-449e-4816-b762-a794d4fd7b08\">\n",
              "      <button class=\"colab-df-quickchart\" onclick=\"quickchart('df-2f66a528-449e-4816-b762-a794d4fd7b08')\"\n",
              "                title=\"Suggest charts\"\n",
              "                style=\"display:none;\">\n",
              "\n",
              "<svg xmlns=\"http://www.w3.org/2000/svg\" height=\"24px\"viewBox=\"0 0 24 24\"\n",
              "     width=\"24px\">\n",
              "    <g>\n",
              "        <path d=\"M19 3H5c-1.1 0-2 .9-2 2v14c0 1.1.9 2 2 2h14c1.1 0 2-.9 2-2V5c0-1.1-.9-2-2-2zM9 17H7v-7h2v7zm4 0h-2V7h2v10zm4 0h-2v-4h2v4z\"/>\n",
              "    </g>\n",
              "</svg>\n",
              "      </button>\n",
              "\n",
              "<style>\n",
              "  .colab-df-quickchart {\n",
              "      --bg-color: #E8F0FE;\n",
              "      --fill-color: #1967D2;\n",
              "      --hover-bg-color: #E2EBFA;\n",
              "      --hover-fill-color: #174EA6;\n",
              "      --disabled-fill-color: #AAA;\n",
              "      --disabled-bg-color: #DDD;\n",
              "  }\n",
              "\n",
              "  [theme=dark] .colab-df-quickchart {\n",
              "      --bg-color: #3B4455;\n",
              "      --fill-color: #D2E3FC;\n",
              "      --hover-bg-color: #434B5C;\n",
              "      --hover-fill-color: #FFFFFF;\n",
              "      --disabled-bg-color: #3B4455;\n",
              "      --disabled-fill-color: #666;\n",
              "  }\n",
              "\n",
              "  .colab-df-quickchart {\n",
              "    background-color: var(--bg-color);\n",
              "    border: none;\n",
              "    border-radius: 50%;\n",
              "    cursor: pointer;\n",
              "    display: none;\n",
              "    fill: var(--fill-color);\n",
              "    height: 32px;\n",
              "    padding: 0;\n",
              "    width: 32px;\n",
              "  }\n",
              "\n",
              "  .colab-df-quickchart:hover {\n",
              "    background-color: var(--hover-bg-color);\n",
              "    box-shadow: 0 1px 2px rgba(60, 64, 67, 0.3), 0 1px 3px 1px rgba(60, 64, 67, 0.15);\n",
              "    fill: var(--button-hover-fill-color);\n",
              "  }\n",
              "\n",
              "  .colab-df-quickchart-complete:disabled,\n",
              "  .colab-df-quickchart-complete:disabled:hover {\n",
              "    background-color: var(--disabled-bg-color);\n",
              "    fill: var(--disabled-fill-color);\n",
              "    box-shadow: none;\n",
              "  }\n",
              "\n",
              "  .colab-df-spinner {\n",
              "    border: 2px solid var(--fill-color);\n",
              "    border-color: transparent;\n",
              "    border-bottom-color: var(--fill-color);\n",
              "    animation:\n",
              "      spin 1s steps(1) infinite;\n",
              "  }\n",
              "\n",
              "  @keyframes spin {\n",
              "    0% {\n",
              "      border-color: transparent;\n",
              "      border-bottom-color: var(--fill-color);\n",
              "      border-left-color: var(--fill-color);\n",
              "    }\n",
              "    20% {\n",
              "      border-color: transparent;\n",
              "      border-left-color: var(--fill-color);\n",
              "      border-top-color: var(--fill-color);\n",
              "    }\n",
              "    30% {\n",
              "      border-color: transparent;\n",
              "      border-left-color: var(--fill-color);\n",
              "      border-top-color: var(--fill-color);\n",
              "      border-right-color: var(--fill-color);\n",
              "    }\n",
              "    40% {\n",
              "      border-color: transparent;\n",
              "      border-right-color: var(--fill-color);\n",
              "      border-top-color: var(--fill-color);\n",
              "    }\n",
              "    60% {\n",
              "      border-color: transparent;\n",
              "      border-right-color: var(--fill-color);\n",
              "    }\n",
              "    80% {\n",
              "      border-color: transparent;\n",
              "      border-right-color: var(--fill-color);\n",
              "      border-bottom-color: var(--fill-color);\n",
              "    }\n",
              "    90% {\n",
              "      border-color: transparent;\n",
              "      border-bottom-color: var(--fill-color);\n",
              "    }\n",
              "  }\n",
              "</style>\n",
              "\n",
              "      <script>\n",
              "        async function quickchart(key) {\n",
              "          const quickchartButtonEl =\n",
              "            document.querySelector('#' + key + ' button');\n",
              "          quickchartButtonEl.disabled = true;  // To prevent multiple clicks.\n",
              "          quickchartButtonEl.classList.add('colab-df-spinner');\n",
              "          try {\n",
              "            const charts = await google.colab.kernel.invokeFunction(\n",
              "                'suggestCharts', [key], {});\n",
              "          } catch (error) {\n",
              "            console.error('Error during call to suggestCharts:', error);\n",
              "          }\n",
              "          quickchartButtonEl.classList.remove('colab-df-spinner');\n",
              "          quickchartButtonEl.classList.add('colab-df-quickchart-complete');\n",
              "        }\n",
              "        (() => {\n",
              "          let quickchartButtonEl =\n",
              "            document.querySelector('#df-2f66a528-449e-4816-b762-a794d4fd7b08 button');\n",
              "          quickchartButtonEl.style.display =\n",
              "            google.colab.kernel.accessAllowed ? 'block' : 'none';\n",
              "        })();\n",
              "      </script>\n",
              "    </div>\n",
              "\n",
              "    </div>\n",
              "  </div>\n"
            ],
            "application/vnd.google.colaboratory.intrinsic+json": {
              "type": "dataframe",
              "variable_name": "df",
              "summary": "{\n  \"name\": \"df\",\n  \"rows\": 7267,\n  \"fields\": [\n    {\n      \"column\": \"customerID\",\n      \"properties\": {\n        \"dtype\": \"string\",\n        \"num_unique_values\": 7267,\n        \"samples\": [\n          \"2038-OEQZH\",\n          \"6322-HRPFA\",\n          \"3969-JQABI\"\n        ],\n        \"semantic_type\": \"\",\n        \"description\": \"\"\n      }\n    },\n    {\n      \"column\": \"Churn\",\n      \"properties\": {\n        \"dtype\": \"category\",\n        \"num_unique_values\": 3,\n        \"samples\": [\n          \"No\",\n          \"Yes\",\n          \"\"\n        ],\n        \"semantic_type\": \"\",\n        \"description\": \"\"\n      }\n    },\n    {\n      \"column\": \"customer\",\n      \"properties\": {\n        \"dtype\": \"object\",\n        \"semantic_type\": \"\",\n        \"description\": \"\"\n      }\n    },\n    {\n      \"column\": \"phone\",\n      \"properties\": {\n        \"dtype\": \"object\",\n        \"semantic_type\": \"\",\n        \"description\": \"\"\n      }\n    },\n    {\n      \"column\": \"internet\",\n      \"properties\": {\n        \"dtype\": \"object\",\n        \"semantic_type\": \"\",\n        \"description\": \"\"\n      }\n    },\n    {\n      \"column\": \"account\",\n      \"properties\": {\n        \"dtype\": \"object\",\n        \"semantic_type\": \"\",\n        \"description\": \"\"\n      }\n    }\n  ]\n}"
            }
          },
          "metadata": {},
          "execution_count": 1
        }
      ]
    },
    {
      "cell_type": "code",
      "source": [
        "# Expandir columnas con datos anidados\n",
        "df_customer = pd.json_normalize(df['customer'])  # Información del cliente\n",
        "df_phone = pd.json_normalize(df['phone'])  # Datos del servicio telefónico\n",
        "df_internet = pd.json_normalize(df['internet'])  # Información del servicio de internet\n",
        "df_account = pd.json_normalize(df['account'])  # Datos del contrato y pagos\n",
        "\n",
        "# Combinar todo en un DataFrame final\n",
        "df_final = pd.concat([df[['customerID', 'Churn']], df_customer, df_phone, df_internet, df_account], axis=1)\n",
        "\n",
        "df_final.info()"
      ],
      "metadata": {
        "colab": {
          "base_uri": "https://localhost:8080/"
        },
        "id": "0v2SN8AmaZBf",
        "outputId": "ecc2118e-421c-4e16-85b8-20d1d335dc7d"
      },
      "execution_count": 2,
      "outputs": [
        {
          "output_type": "stream",
          "name": "stdout",
          "text": [
            "<class 'pandas.core.frame.DataFrame'>\n",
            "RangeIndex: 7267 entries, 0 to 7266\n",
            "Data columns (total 21 columns):\n",
            " #   Column            Non-Null Count  Dtype  \n",
            "---  ------            --------------  -----  \n",
            " 0   customerID        7267 non-null   object \n",
            " 1   Churn             7267 non-null   object \n",
            " 2   gender            7267 non-null   object \n",
            " 3   SeniorCitizen     7267 non-null   int64  \n",
            " 4   Partner           7267 non-null   object \n",
            " 5   Dependents        7267 non-null   object \n",
            " 6   tenure            7267 non-null   int64  \n",
            " 7   PhoneService      7267 non-null   object \n",
            " 8   MultipleLines     7267 non-null   object \n",
            " 9   InternetService   7267 non-null   object \n",
            " 10  OnlineSecurity    7267 non-null   object \n",
            " 11  OnlineBackup      7267 non-null   object \n",
            " 12  DeviceProtection  7267 non-null   object \n",
            " 13  TechSupport       7267 non-null   object \n",
            " 14  StreamingTV       7267 non-null   object \n",
            " 15  StreamingMovies   7267 non-null   object \n",
            " 16  Contract          7267 non-null   object \n",
            " 17  PaperlessBilling  7267 non-null   object \n",
            " 18  PaymentMethod     7267 non-null   object \n",
            " 19  Charges.Monthly   7267 non-null   float64\n",
            " 20  Charges.Total     7267 non-null   object \n",
            "dtypes: float64(1), int64(2), object(18)\n",
            "memory usage: 1.2+ MB\n"
          ]
        }
      ]
    },
    {
      "cell_type": "code",
      "source": [
        "# Convertir tipos de datos\n",
        "# Convertir columnas numéricas\n",
        "df_final['Charges.Total'] = pd.to_numeric(df_final['Charges.Total'], errors='coerce')\n",
        "\n",
        "# Convertir variables categóricas a 'category' para optimizar memoria\n",
        "categorical_cols = ['Churn', 'gender', 'Partner', 'Dependents', 'PhoneService', 'MultipleLines',\n",
        "                    'InternetService', 'OnlineSecurity', 'OnlineBackup', 'DeviceProtection',\n",
        "                    'TechSupport', 'StreamingTV', 'StreamingMovies', 'Contract',\n",
        "                    'PaperlessBilling', 'PaymentMethod']\n",
        "\n",
        "df_final[categorical_cols] = df_final[categorical_cols].astype('category')\n",
        "\n",
        "# Convertir `SeniorCitizen` a booleano\n",
        "df_final['SeniorCitizen'] = df_final['SeniorCitizen'].astype(bool)\n",
        "\n",
        "# Verificar cambios\n",
        "print(df_final.info())"
      ],
      "metadata": {
        "colab": {
          "base_uri": "https://localhost:8080/"
        },
        "id": "KzUSVAFSa-Fc",
        "outputId": "effa7c92-1a94-436d-e2a2-af208ed43fbc"
      },
      "execution_count": 3,
      "outputs": [
        {
          "output_type": "stream",
          "name": "stdout",
          "text": [
            "<class 'pandas.core.frame.DataFrame'>\n",
            "RangeIndex: 7267 entries, 0 to 7266\n",
            "Data columns (total 21 columns):\n",
            " #   Column            Non-Null Count  Dtype   \n",
            "---  ------            --------------  -----   \n",
            " 0   customerID        7267 non-null   object  \n",
            " 1   Churn             7267 non-null   category\n",
            " 2   gender            7267 non-null   category\n",
            " 3   SeniorCitizen     7267 non-null   bool    \n",
            " 4   Partner           7267 non-null   category\n",
            " 5   Dependents        7267 non-null   category\n",
            " 6   tenure            7267 non-null   int64   \n",
            " 7   PhoneService      7267 non-null   category\n",
            " 8   MultipleLines     7267 non-null   category\n",
            " 9   InternetService   7267 non-null   category\n",
            " 10  OnlineSecurity    7267 non-null   category\n",
            " 11  OnlineBackup      7267 non-null   category\n",
            " 12  DeviceProtection  7267 non-null   category\n",
            " 13  TechSupport       7267 non-null   category\n",
            " 14  StreamingTV       7267 non-null   category\n",
            " 15  StreamingMovies   7267 non-null   category\n",
            " 16  Contract          7267 non-null   category\n",
            " 17  PaperlessBilling  7267 non-null   category\n",
            " 18  PaymentMethod     7267 non-null   category\n",
            " 19  Charges.Monthly   7267 non-null   float64 \n",
            " 20  Charges.Total     7256 non-null   float64 \n",
            "dtypes: bool(1), category(16), float64(2), int64(1), object(1)\n",
            "memory usage: 350.0+ KB\n",
            "None\n"
          ]
        }
      ]
    },
    {
      "cell_type": "code",
      "source": [
        "# Renombrar las columnas\n",
        "\n",
        "# Descarga diccionarioimport requests\n",
        "\n",
        "# URL del diccionario de nombres de columnas\n",
        "url_diccionario = \"https://raw.githubusercontent.com/alura-cursos/challenge2-data-science-LATAM/refs/heads/main/TelecomX_diccionario.md\"\n",
        "\n",
        "# Descargar el contenido del archivo\n",
        "response = requests.get(url_diccionario)\n",
        "diccionario_texto = response.text\n",
        "\n",
        "# Mostrar una vista previa del contenido\n",
        "print(diccionario_texto[:2000])  # Ver los primeros 500 caracteres"
      ],
      "metadata": {
        "colab": {
          "base_uri": "https://localhost:8080/"
        },
        "id": "IGkXLKmLbSKj",
        "outputId": "c6670526-d28f-4937-9706-c1c3704a55bc"
      },
      "execution_count": 4,
      "outputs": [
        {
          "output_type": "stream",
          "name": "stdout",
          "text": [
            "#### Diccionario de datos\n",
            "\n",
            "- `customerID`: número de identificación único de cada cliente\n",
            "- `Churn`: si el cliente dejó o no la empresa\n",
            "- `gender`: género (masculino y femenino)\n",
            "- `SeniorCitizen`: información sobre si un cliente tiene o no una edad igual o mayor a 65 años\n",
            "- `Partner`: si el cliente tiene o no una pareja\n",
            "- `Dependents`: si el cliente tiene o no dependientes\n",
            "- `tenure`: meses de contrato del cliente\n",
            "- `PhoneService`: suscripción al servicio telefónico\n",
            "- `MultipleLines`: suscripción a más de una línea telefónica\n",
            "- `InternetService`: suscripción a un proveedor de internet\n",
            "- `OnlineSecurity`: suscripción adicional de seguridad en línea\n",
            "- `OnlineBackup`: suscripción adicional de respaldo en línea\n",
            "- `DeviceProtection`: suscripción adicional de protección del dispositivo\n",
            "- `TechSupport`: suscripción adicional de soporte técnico, menor tiempo de espera\n",
            "- `StreamingTV`: suscripción de televisión por cable\n",
            "- `StreamingMovies`: suscripción de streaming de películas\n",
            "- `Contract`: tipo de contrato\n",
            "- `PaperlessBilling`: si el cliente prefiere recibir la factura en línea\n",
            "- `PaymentMethod`: forma de pago\n",
            "- `Charges.Monthly`: total de todos los servicios del cliente por mes\n",
            "- `Charges.Total`: total gastado por el cliente\n"
          ]
        }
      ]
    },
    {
      "cell_type": "code",
      "source": [
        "# Definir nombres de columnas\n",
        "diccionario_abreviado = {\n",
        "    \"customerID\": \"ID\",\n",
        "    \"Churn\": \"Cancela\",\n",
        "    \"gender\": \"Gen\",\n",
        "    \"SeniorCitizen\": \"Edad_65+\",\n",
        "    \"Partner\": \"Pareja\",\n",
        "    \"Dependents\": \"Dep\",\n",
        "    \"tenure\": \"Meses\",\n",
        "    \"PhoneService\": \"Tel\",\n",
        "    \"MultipleLines\": \"MultiLine\",\n",
        "    \"InternetService\": \"Internet\",\n",
        "    \"OnlineSecurity\": \"Seguridad\",\n",
        "    \"OnlineBackup\": \"Backup\",\n",
        "    \"DeviceProtection\": \"Protección\",\n",
        "    \"TechSupport\": \"Soporte\",\n",
        "    \"StreamingTV\": \"TV\",\n",
        "    \"StreamingMovies\": \"Películas\",\n",
        "    \"Contract\": \"Contrato\",\n",
        "    \"PaperlessBilling\": \"Fact_Elec\",\n",
        "    \"PaymentMethod\": \"Pago\",\n",
        "    \"Charges.Monthly\": \"Pago_Mensual\",\n",
        "    \"Charges.Total\": \"Pago_Total\"\n",
        "}\n",
        "\n",
        "# Aplicar cambios al DataFrame asegurando que los nombres sean exactos\n",
        "df_final.rename(columns=diccionario_abreviado, inplace=True)\n",
        "\n",
        "# Verificar nombres de columnas actualizados\n",
        "print(df_final.columns)"
      ],
      "metadata": {
        "colab": {
          "base_uri": "https://localhost:8080/"
        },
        "id": "0qD_L9F2jMq5",
        "outputId": "f55d9e86-9d82-4278-fb6c-c06cb3180c24"
      },
      "execution_count": 5,
      "outputs": [
        {
          "output_type": "stream",
          "name": "stdout",
          "text": [
            "Index(['ID', 'Cancela', 'Gen', 'Edad_65+', 'Pareja', 'Dep', 'Meses', 'Tel',\n",
            "       'MultiLine', 'Internet', 'Seguridad', 'Backup', 'Protección', 'Soporte',\n",
            "       'TV', 'Películas', 'Contrato', 'Fact_Elec', 'Pago', 'Pago_Mensual',\n",
            "       'Pago_Total'],\n",
            "      dtype='object')\n"
          ]
        }
      ]
    },
    {
      "cell_type": "code",
      "source": [
        "# Validación de integridad\n",
        "# Ver tipos de datos y valores nulos\n",
        "print(df_final.info())\n",
        "\n",
        "# Ver resumen estadístico de las columnas numéricas\n",
        "print(df_final.describe())\n",
        "\n",
        "# Ver cantidad de valores nulos en cada columna\n",
        "print(df_final.isnull().sum())\n",
        "\n",
        "# Revisar valores únicos en columnas categóricas\n",
        "categorical_cols = df_final.select_dtypes(include=['category', 'object']).columns\n",
        "for col in categorical_cols:\n",
        "    print(f\"\\nValores únicos en {col}: {df_final[col].unique()}\")"
      ],
      "metadata": {
        "colab": {
          "base_uri": "https://localhost:8080/"
        },
        "id": "KCFuU0liscD-",
        "outputId": "3daf27ea-4d37-4219-b87f-ee40045c6c87"
      },
      "execution_count": 6,
      "outputs": [
        {
          "output_type": "stream",
          "name": "stdout",
          "text": [
            "<class 'pandas.core.frame.DataFrame'>\n",
            "RangeIndex: 7267 entries, 0 to 7266\n",
            "Data columns (total 21 columns):\n",
            " #   Column        Non-Null Count  Dtype   \n",
            "---  ------        --------------  -----   \n",
            " 0   ID            7267 non-null   object  \n",
            " 1   Cancela       7267 non-null   category\n",
            " 2   Gen           7267 non-null   category\n",
            " 3   Edad_65+      7267 non-null   bool    \n",
            " 4   Pareja        7267 non-null   category\n",
            " 5   Dep           7267 non-null   category\n",
            " 6   Meses         7267 non-null   int64   \n",
            " 7   Tel           7267 non-null   category\n",
            " 8   MultiLine     7267 non-null   category\n",
            " 9   Internet      7267 non-null   category\n",
            " 10  Seguridad     7267 non-null   category\n",
            " 11  Backup        7267 non-null   category\n",
            " 12  Protección    7267 non-null   category\n",
            " 13  Soporte       7267 non-null   category\n",
            " 14  TV            7267 non-null   category\n",
            " 15  Películas     7267 non-null   category\n",
            " 16  Contrato      7267 non-null   category\n",
            " 17  Fact_Elec     7267 non-null   category\n",
            " 18  Pago          7267 non-null   category\n",
            " 19  Pago_Mensual  7267 non-null   float64 \n",
            " 20  Pago_Total    7256 non-null   float64 \n",
            "dtypes: bool(1), category(16), float64(2), int64(1), object(1)\n",
            "memory usage: 350.0+ KB\n",
            "None\n",
            "             Meses  Pago_Mensual   Pago_Total\n",
            "count  7267.000000   7267.000000  7256.000000\n",
            "mean     32.346498     64.720098  2280.634213\n",
            "std      24.571773     30.129572  2268.632997\n",
            "min       0.000000     18.250000    18.800000\n",
            "25%       9.000000     35.425000   400.225000\n",
            "50%      29.000000     70.300000  1391.000000\n",
            "75%      55.000000     89.875000  3785.300000\n",
            "max      72.000000    118.750000  8684.800000\n",
            "ID               0\n",
            "Cancela          0\n",
            "Gen              0\n",
            "Edad_65+         0\n",
            "Pareja           0\n",
            "Dep              0\n",
            "Meses            0\n",
            "Tel              0\n",
            "MultiLine        0\n",
            "Internet         0\n",
            "Seguridad        0\n",
            "Backup           0\n",
            "Protección       0\n",
            "Soporte          0\n",
            "TV               0\n",
            "Películas        0\n",
            "Contrato         0\n",
            "Fact_Elec        0\n",
            "Pago             0\n",
            "Pago_Mensual     0\n",
            "Pago_Total      11\n",
            "dtype: int64\n",
            "\n",
            "Valores únicos en ID: ['0002-ORFBO' '0003-MKNFE' '0004-TLHLJ' ... '9992-UJOEL' '9993-LHIEB'\n",
            " '9995-HOTOH']\n",
            "\n",
            "Valores únicos en Cancela: ['No', 'Yes', '']\n",
            "Categories (3, object): ['', 'No', 'Yes']\n",
            "\n",
            "Valores únicos en Gen: ['Female', 'Male']\n",
            "Categories (2, object): ['Female', 'Male']\n",
            "\n",
            "Valores únicos en Pareja: ['Yes', 'No']\n",
            "Categories (2, object): ['No', 'Yes']\n",
            "\n",
            "Valores únicos en Dep: ['Yes', 'No']\n",
            "Categories (2, object): ['No', 'Yes']\n",
            "\n",
            "Valores únicos en Tel: ['Yes', 'No']\n",
            "Categories (2, object): ['No', 'Yes']\n",
            "\n",
            "Valores únicos en MultiLine: ['No', 'Yes', 'No phone service']\n",
            "Categories (3, object): ['No', 'No phone service', 'Yes']\n",
            "\n",
            "Valores únicos en Internet: ['DSL', 'Fiber optic', 'No']\n",
            "Categories (3, object): ['DSL', 'Fiber optic', 'No']\n",
            "\n",
            "Valores únicos en Seguridad: ['No', 'Yes', 'No internet service']\n",
            "Categories (3, object): ['No', 'No internet service', 'Yes']\n",
            "\n",
            "Valores únicos en Backup: ['Yes', 'No', 'No internet service']\n",
            "Categories (3, object): ['No', 'No internet service', 'Yes']\n",
            "\n",
            "Valores únicos en Protección: ['No', 'Yes', 'No internet service']\n",
            "Categories (3, object): ['No', 'No internet service', 'Yes']\n",
            "\n",
            "Valores únicos en Soporte: ['Yes', 'No', 'No internet service']\n",
            "Categories (3, object): ['No', 'No internet service', 'Yes']\n",
            "\n",
            "Valores únicos en TV: ['Yes', 'No', 'No internet service']\n",
            "Categories (3, object): ['No', 'No internet service', 'Yes']\n",
            "\n",
            "Valores únicos en Películas: ['No', 'Yes', 'No internet service']\n",
            "Categories (3, object): ['No', 'No internet service', 'Yes']\n",
            "\n",
            "Valores únicos en Contrato: ['One year', 'Month-to-month', 'Two year']\n",
            "Categories (3, object): ['Month-to-month', 'One year', 'Two year']\n",
            "\n",
            "Valores únicos en Fact_Elec: ['Yes', 'No']\n",
            "Categories (2, object): ['No', 'Yes']\n",
            "\n",
            "Valores únicos en Pago: ['Mailed check', 'Electronic check', 'Credit card (automatic)', 'Bank transfer (automatic)']\n",
            "Categories (4, object): ['Bank transfer (automatic)', 'Credit card (automatic)', 'Electronic check',\n",
            "                         'Mailed check']\n"
          ]
        }
      ]
    },
    {
      "cell_type": "code",
      "source": [
        "# Normalización de datos numéricos\n",
        "from sklearn.preprocessing import MinMaxScaler\n",
        "\n",
        "# Seleccionar columnas numéricas\n",
        "numeric_cols = df_final.select_dtypes(include=['int64', 'float64']).columns\n",
        "\n",
        "# Aplicar normalización Min-Max\n",
        "scaler = MinMaxScaler()\n",
        "df_final[numeric_cols] = scaler.fit_transform(df_final[numeric_cols])\n",
        "\n",
        "# Verificar resultado de la normalización\n",
        "print(df_final.describe())"
      ],
      "metadata": {
        "colab": {
          "base_uri": "https://localhost:8080/"
        },
        "id": "pFFocnaJtkh5",
        "outputId": "b6f2634d-8ef3-4da6-e001-1927f3e7a721"
      },
      "execution_count": 7,
      "outputs": [
        {
          "output_type": "stream",
          "name": "stdout",
          "text": [
            "             Meses  Pago_Mensual   Pago_Total\n",
            "count  7267.000000   7267.000000  7256.000000\n",
            "mean      0.449257      0.462389     0.261001\n",
            "std       0.341275      0.299797     0.261785\n",
            "min       0.000000      0.000000     0.000000\n",
            "25%       0.125000      0.170896     0.044014\n",
            "50%       0.402778      0.517910     0.158343\n",
            "75%       0.763889      0.712687     0.434630\n",
            "max       1.000000      1.000000     1.000000\n"
          ]
        }
      ]
    },
    {
      "cell_type": "code",
      "source": [],
      "metadata": {
        "id": "uf4BGL80ltkA"
      },
      "execution_count": 7,
      "outputs": []
    },
    {
      "cell_type": "code",
      "source": [],
      "metadata": {
        "id": "l8QrDYV6k1nA"
      },
      "execution_count": 7,
      "outputs": []
    },
    {
      "cell_type": "code",
      "source": [
        "# Revisión valores nulos\n",
        "print(df_final.isnull().sum())"
      ],
      "metadata": {
        "colab": {
          "base_uri": "https://localhost:8080/"
        },
        "id": "LNWouYybtkbs",
        "outputId": "b021f306-e29f-483c-a87e-4ed5ec17efc0"
      },
      "execution_count": 8,
      "outputs": [
        {
          "output_type": "stream",
          "name": "stdout",
          "text": [
            "ID               0\n",
            "Cancela          0\n",
            "Gen              0\n",
            "Edad_65+         0\n",
            "Pareja           0\n",
            "Dep              0\n",
            "Meses            0\n",
            "Tel              0\n",
            "MultiLine        0\n",
            "Internet         0\n",
            "Seguridad        0\n",
            "Backup           0\n",
            "Protección       0\n",
            "Soporte          0\n",
            "TV               0\n",
            "Películas        0\n",
            "Contrato         0\n",
            "Fact_Elec        0\n",
            "Pago             0\n",
            "Pago_Mensual     0\n",
            "Pago_Total      11\n",
            "dtype: int64\n"
          ]
        }
      ]
    },
    {
      "cell_type": "code",
      "source": [
        "# Comparación con total valores no nulos en columna Pago_Total\n",
        "print(df_final[\"Pago_Total\"].count())"
      ],
      "metadata": {
        "colab": {
          "base_uri": "https://localhost:8080/"
        },
        "id": "jPU1l55gtkWf",
        "outputId": "e832b120-bd2f-4d84-bbe6-e41a97111382"
      },
      "execution_count": 9,
      "outputs": [
        {
          "output_type": "stream",
          "name": "stdout",
          "text": [
            "7256\n"
          ]
        }
      ]
    },
    {
      "cell_type": "code",
      "source": [
        "# Elimina valores nulos columna Pago_Total y chequea nuevamente\n",
        "df_final.dropna(subset=[\"Pago_Total\"], inplace=True)\n",
        "print(df_final.isnull().sum())"
      ],
      "metadata": {
        "colab": {
          "base_uri": "https://localhost:8080/"
        },
        "id": "1IRTu4j0tkQl",
        "outputId": "202f1213-16f7-44ba-9601-5e6420a9611e"
      },
      "execution_count": 10,
      "outputs": [
        {
          "output_type": "stream",
          "name": "stdout",
          "text": [
            "ID              0\n",
            "Cancela         0\n",
            "Gen             0\n",
            "Edad_65+        0\n",
            "Pareja          0\n",
            "Dep             0\n",
            "Meses           0\n",
            "Tel             0\n",
            "MultiLine       0\n",
            "Internet        0\n",
            "Seguridad       0\n",
            "Backup          0\n",
            "Protección      0\n",
            "Soporte         0\n",
            "TV              0\n",
            "Películas       0\n",
            "Contrato        0\n",
            "Fact_Elec       0\n",
            "Pago            0\n",
            "Pago_Mensual    0\n",
            "Pago_Total      0\n",
            "dtype: int64\n"
          ]
        }
      ]
    },
    {
      "cell_type": "code",
      "source": [
        "# Convertir \"Yes\" y \"No\" en 1 y 0\n",
        "# Identificar columnas categóricas que contienen \"Yes\" y \"No\"\n",
        "binary_cols = [\"Cancela\", \"Pareja\", \"Dep\", \"Tel\", \"MultiLine\", \"Seguridad\",\n",
        "               \"Backup\", \"Protección\", \"Soporte\", \"Fact_Elec\"]\n",
        "\n",
        "# Reemplazar valores en columnas categóricas\n",
        "for col in binary_cols:\n",
        "    if df_final[col].dtype.name == \"category\":  # Si la columna es categórica\n",
        "        df_final[col] = df_final[col].cat.rename_categories({\"Yes\": 1, \"No\": 0})\n",
        "    else:\n",
        "        df_final[col] = df_final[col].replace({\"Yes\": 1, \"No\": 0})"
      ],
      "metadata": {
        "id": "DkqW6FRU3ZDp"
      },
      "execution_count": 11,
      "outputs": []
    },
    {
      "cell_type": "code",
      "source": [
        "# Convertir valores booleanos (True y False)\n",
        "# Identificar columnas booleanas\n",
        "boolean_cols = df_final.select_dtypes(include=['bool']).columns\n",
        "\n",
        "# Convertir a 1 y 0\n",
        "df_final[boolean_cols] = df_final[boolean_cols].astype(int)\n",
        "\n",
        "# Verificar cambios\n",
        "print(df_final[boolean_cols].head())"
      ],
      "metadata": {
        "colab": {
          "base_uri": "https://localhost:8080/"
        },
        "id": "n2Byr9044s36",
        "outputId": "374f634f-0898-4f7e-928e-26295e519dba"
      },
      "execution_count": 12,
      "outputs": [
        {
          "output_type": "stream",
          "name": "stdout",
          "text": [
            "   Edad_65+\n",
            "0         0\n",
            "1         0\n",
            "2         0\n",
            "3         1\n",
            "4         1\n"
          ]
        }
      ]
    },
    {
      "cell_type": "code",
      "source": [
        "diccionario_renombrado = {\n",
        "    \"ID\": \"ID_Cliente\",\n",
        "    \"Cancela\": \"Cancelación\",\n",
        "    \"Gen\": \"Género\",\n",
        "    \"Edad_65+\": \"Mayor_65\",\n",
        "    \"Pareja\": \"Tiene_Pareja\",\n",
        "    \"Dep\": \"Tiene_Dependientes\",\n",
        "    \"Meses\": \"Meses_Contrato\",\n",
        "    \"Tel\": \"Servicio_Teléfono\",\n",
        "    \"MultiLine\": \"Líneas_Múltiples\",\n",
        "    \"Internet\": \"Proveedor_Internet\",\n",
        "    \"Seguridad\": \"Seguridad_Online\",\n",
        "    \"Backup\": \"Respaldo_Online\",\n",
        "    \"Protección\": \"Protección_Dispositivo\",\n",
        "    \"Soporte\": \"Soporte_Técnico\",\n",
        "    \"TV\": \"Servicio_TV\",\n",
        "    \"Películas\": \"Servicio_Cine\",\n",
        "    \"Contrato\": \"Tipo_Contrato\",\n",
        "    \"Fact_Elec\": \"Factura_Electrónica\",\n",
        "    \"Pago\": \"Método_Pago\",\n",
        "    \"Pago_Mensual\": \"Monto_Mensual\",\n",
        "    \"Pago_Total\": \"Monto_Total\"\n",
        "}\n",
        "\n",
        "# Aplicar nuevos nombres\n",
        "df_final.rename(columns=diccionario_renombrado, inplace=True)\n",
        "\n",
        "# Verificar cambios\n",
        "print(df_final.columns)"
      ],
      "metadata": {
        "colab": {
          "base_uri": "https://localhost:8080/"
        },
        "id": "PZ60JvUP70hH",
        "outputId": "74608751-50b9-4f7d-e3e4-5d73c74608e5"
      },
      "execution_count": 13,
      "outputs": [
        {
          "output_type": "stream",
          "name": "stdout",
          "text": [
            "Index(['ID_Cliente', 'Cancelación', 'Género', 'Mayor_65', 'Tiene_Pareja',\n",
            "       'Tiene_Dependientes', 'Meses_Contrato', 'Servicio_Teléfono',\n",
            "       'Líneas_Múltiples', 'Proveedor_Internet', 'Seguridad_Online',\n",
            "       'Respaldo_Online', 'Protección_Dispositivo', 'Soporte_Técnico',\n",
            "       'Servicio_TV', 'Servicio_Cine', 'Tipo_Contrato', 'Factura_Electrónica',\n",
            "       'Método_Pago', 'Monto_Mensual', 'Monto_Total'],\n",
            "      dtype='object')\n"
          ]
        }
      ]
    },
    {
      "cell_type": "code",
      "source": [
        "# Crea columna \"cuentas_diarias\"\n",
        "df_final[\"Cuentas_diarias\"] = df_final[\"Monto_Mensual\"] / 30\n",
        "\n",
        "# Verificar los primeros valores\n",
        "print(df_final[[\"Monto_Mensual\", \"Cuentas_diarias\"]].head())"
      ],
      "metadata": {
        "colab": {
          "base_uri": "https://localhost:8080/"
        },
        "id": "H2b5J_p0hYSS",
        "outputId": "4a4a7d85-89d2-449e-cbd9-5facc142f8cb"
      },
      "execution_count": 14,
      "outputs": [
        {
          "output_type": "stream",
          "name": "stdout",
          "text": [
            "   Monto_Mensual  Cuentas_diarias\n",
            "0       0.471144         0.015705\n",
            "1       0.414428         0.013814\n",
            "2       0.553731         0.018458\n",
            "3       0.793532         0.026451\n",
            "4       0.653234         0.021774\n"
          ]
        }
      ]
    },
    {
      "cell_type": "markdown",
      "source": [
        "# **LOAD AND ANALISYS**"
      ],
      "metadata": {
        "id": "ZBPJMixfh3Ju"
      }
    },
    {
      "cell_type": "code",
      "source": [
        "# Estadística Descriptiva\n",
        "# Filtrar solo columnas numéricas\n",
        "numeric_cols = df_final.select_dtypes(include=['int64', 'float64']).columns\n",
        "\n",
        "# Calcular estadísticas básicas solo con datos numéricos\n",
        "estadisticas = df_final[numeric_cols].describe().T  # Transponer para mejor lectura\n",
        "estadisticas[\"mediana\"] = df_final[numeric_cols].median()\n",
        "\n",
        "# Mostrar resultados\n",
        "print(estadisticas[[\"mean\", \"mediana\", \"std\"]])  # Media, Mediana y Desviación Estándar(estadisticas[[\"mean\", \"mediana\", \"std\"]])"
      ],
      "metadata": {
        "colab": {
          "base_uri": "https://localhost:8080/"
        },
        "id": "uvJ3lt7JhYFM",
        "outputId": "12ca1e10-f978-4a1c-a5f7-b1245c7c2976"
      },
      "execution_count": 15,
      "outputs": [
        {
          "output_type": "stream",
          "name": "stdout",
          "text": [
            "                     mean   mediana       std\n",
            "Mayor_65         0.162900  0.000000  0.369300\n",
            "Meses_Contrato   0.449938  0.402778  0.341084\n",
            "Monto_Mensual    0.462741  0.517910  0.299759\n",
            "Monto_Total      0.261001  0.158343  0.261785\n",
            "Cuentas_diarias  0.015425  0.017264  0.009992\n"
          ]
        }
      ]
    },
    {
      "cell_type": "code",
      "source": [],
      "metadata": {
        "id": "OWQ0M-t0hX4x"
      },
      "execution_count": 15,
      "outputs": []
    },
    {
      "cell_type": "code",
      "source": [],
      "metadata": {
        "id": "pBvOvZnGhXLA"
      },
      "execution_count": 15,
      "outputs": []
    },
    {
      "cell_type": "code",
      "source": [
        "# Verifica columna booleanas\n",
        "print(df_final.dtypes)  # Ver tipos de datos en todas las columnas"
      ],
      "metadata": {
        "colab": {
          "base_uri": "https://localhost:8080/"
        },
        "id": "2lMg04fO5VAB",
        "outputId": "153938d5-e47d-4a9e-c55e-1d5af1de901d"
      },
      "execution_count": 16,
      "outputs": [
        {
          "output_type": "stream",
          "name": "stdout",
          "text": [
            "ID_Cliente                  object\n",
            "Cancelación               category\n",
            "Género                    category\n",
            "Mayor_65                     int64\n",
            "Tiene_Pareja              category\n",
            "Tiene_Dependientes        category\n",
            "Meses_Contrato             float64\n",
            "Servicio_Teléfono         category\n",
            "Líneas_Múltiples          category\n",
            "Proveedor_Internet        category\n",
            "Seguridad_Online          category\n",
            "Respaldo_Online           category\n",
            "Protección_Dispositivo    category\n",
            "Soporte_Técnico           category\n",
            "Servicio_TV               category\n",
            "Servicio_Cine             category\n",
            "Tipo_Contrato             category\n",
            "Factura_Electrónica       category\n",
            "Método_Pago               category\n",
            "Monto_Mensual              float64\n",
            "Monto_Total                float64\n",
            "Cuentas_diarias            float64\n",
            "dtype: object\n"
          ]
        }
      ]
    },
    {
      "cell_type": "code",
      "source": [],
      "metadata": {
        "id": "OB28lnOA4szz"
      },
      "execution_count": 16,
      "outputs": []
    },
    {
      "cell_type": "code",
      "source": [],
      "metadata": {
        "id": "aelhALLD4svW"
      },
      "execution_count": 16,
      "outputs": []
    },
    {
      "cell_type": "code",
      "source": [],
      "metadata": {
        "id": "XatvtlxF3YWN"
      },
      "execution_count": 16,
      "outputs": []
    },
    {
      "cell_type": "code",
      "source": [
        "# Resumen general del DataFrame\n",
        "print(df_final.describe())  # Resumen de las columnas numéricas\n",
        "print(df_final.info())  # Información general sobre el DataFrame"
      ],
      "metadata": {
        "colab": {
          "base_uri": "https://localhost:8080/"
        },
        "id": "AXJksSoHsb-x",
        "outputId": "ceaf726f-e6a7-4a0a-849d-5b7c3c51e105"
      },
      "execution_count": 17,
      "outputs": [
        {
          "output_type": "stream",
          "name": "stdout",
          "text": [
            "        Mayor_65  Meses_Contrato  Monto_Mensual  Monto_Total  Cuentas_diarias\n",
            "count  7256.0000     7256.000000    7256.000000  7256.000000      7256.000000\n",
            "mean      0.1629        0.449938       0.462741     0.261001         0.015425\n",
            "std       0.3693        0.341084       0.299759     0.261785         0.009992\n",
            "min       0.0000        0.013889       0.000000     0.000000         0.000000\n",
            "25%       0.0000        0.125000       0.171144     0.044014         0.005705\n",
            "50%       0.0000        0.402778       0.517910     0.158343         0.017264\n",
            "75%       0.0000        0.763889       0.712935     0.434630         0.023765\n",
            "max       1.0000        1.000000       1.000000     1.000000         0.033333\n",
            "<class 'pandas.core.frame.DataFrame'>\n",
            "Index: 7256 entries, 0 to 7266\n",
            "Data columns (total 22 columns):\n",
            " #   Column                  Non-Null Count  Dtype   \n",
            "---  ------                  --------------  -----   \n",
            " 0   ID_Cliente              7256 non-null   object  \n",
            " 1   Cancelación             7256 non-null   category\n",
            " 2   Género                  7256 non-null   category\n",
            " 3   Mayor_65                7256 non-null   int64   \n",
            " 4   Tiene_Pareja            7256 non-null   category\n",
            " 5   Tiene_Dependientes      7256 non-null   category\n",
            " 6   Meses_Contrato          7256 non-null   float64 \n",
            " 7   Servicio_Teléfono       7256 non-null   category\n",
            " 8   Líneas_Múltiples        7256 non-null   category\n",
            " 9   Proveedor_Internet      7256 non-null   category\n",
            " 10  Seguridad_Online        7256 non-null   category\n",
            " 11  Respaldo_Online         7256 non-null   category\n",
            " 12  Protección_Dispositivo  7256 non-null   category\n",
            " 13  Soporte_Técnico         7256 non-null   category\n",
            " 14  Servicio_TV             7256 non-null   category\n",
            " 15  Servicio_Cine           7256 non-null   category\n",
            " 16  Tipo_Contrato           7256 non-null   category\n",
            " 17  Factura_Electrónica     7256 non-null   category\n",
            " 18  Método_Pago             7256 non-null   category\n",
            " 19  Monto_Mensual           7256 non-null   float64 \n",
            " 20  Monto_Total             7256 non-null   float64 \n",
            " 21  Cuentas_diarias         7256 non-null   float64 \n",
            "dtypes: category(16), float64(4), int64(1), object(1)\n",
            "memory usage: 512.3+ KB\n",
            "None\n"
          ]
        }
      ]
    },
    {
      "cell_type": "code",
      "source": [
        "# Distribución de valores categóricos\n",
        "categorical_cols = df_final.select_dtypes(include=['object', 'category']).columns\n",
        "\n",
        "for col in categorical_cols:\n",
        "    print(f\"\\nDistribución de {col}:\")\n",
        "    print(df_final[col].value_counts())"
      ],
      "metadata": {
        "colab": {
          "base_uri": "https://localhost:8080/"
        },
        "id": "GE4hceHmsb5h",
        "outputId": "fcac51b7-86d1-43e6-b7ae-70ffbd3ff743"
      },
      "execution_count": 18,
      "outputs": [
        {
          "output_type": "stream",
          "name": "stdout",
          "text": [
            "\n",
            "Distribución de ID_Cliente:\n",
            "ID_Cliente\n",
            "9995-HOTOH    1\n",
            "0002-ORFBO    1\n",
            "0003-MKNFE    1\n",
            "0004-TLHLJ    1\n",
            "0011-IGKFF    1\n",
            "             ..\n",
            "0018-NYROU    1\n",
            "0017-IUDMW    1\n",
            "0017-DINOC    1\n",
            "0016-QLJIS    1\n",
            "0015-UOCOJ    1\n",
            "Name: count, Length: 7256, dtype: int64\n",
            "\n",
            "Distribución de Cancelación:\n",
            "Cancelación\n",
            "0    5163\n",
            "1    1869\n",
            "      224\n",
            "Name: count, dtype: int64\n",
            "\n",
            "Distribución de Género:\n",
            "Género\n",
            "Male      3669\n",
            "Female    3587\n",
            "Name: count, dtype: int64\n",
            "\n",
            "Distribución de Tiene_Pareja:\n",
            "Tiene_Pareja\n",
            "0    3747\n",
            "1    3509\n",
            "Name: count, dtype: int64\n",
            "\n",
            "Distribución de Tiene_Dependientes:\n",
            "Tiene_Dependientes\n",
            "0    5086\n",
            "1    2170\n",
            "Name: count, dtype: int64\n",
            "\n",
            "Distribución de Servicio_Teléfono:\n",
            "Servicio_Teléfono\n",
            "1    6551\n",
            "0     705\n",
            "Name: count, dtype: int64\n",
            "\n",
            "Distribución de Líneas_Múltiples:\n",
            "Líneas_Múltiples\n",
            "0                   3490\n",
            "1                   3061\n",
            "No phone service     705\n",
            "Name: count, dtype: int64\n",
            "\n",
            "Distribución de Proveedor_Internet:\n",
            "Proveedor_Internet\n",
            "Fiber optic    3198\n",
            "DSL            2483\n",
            "No             1575\n",
            "Name: count, dtype: int64\n",
            "\n",
            "Distribución de Seguridad_Online:\n",
            "Seguridad_Online\n",
            "0                      3607\n",
            "1                      2074\n",
            "No internet service    1575\n",
            "Name: count, dtype: int64\n",
            "\n",
            "Distribución de Respaldo_Online:\n",
            "Respaldo_Online\n",
            "0                      3181\n",
            "1                      2500\n",
            "No internet service    1575\n",
            "Name: count, dtype: int64\n",
            "\n",
            "Distribución de Protección_Dispositivo:\n",
            "Protección_Dispositivo\n",
            "0                      3194\n",
            "1                      2487\n",
            "No internet service    1575\n",
            "Name: count, dtype: int64\n",
            "\n",
            "Distribución de Soporte_Técnico:\n",
            "Soporte_Técnico\n",
            "0                      3581\n",
            "1                      2100\n",
            "No internet service    1575\n",
            "Name: count, dtype: int64\n",
            "\n",
            "Distribución de Servicio_TV:\n",
            "Servicio_TV\n",
            "No                     2895\n",
            "Yes                    2786\n",
            "No internet service    1575\n",
            "Name: count, dtype: int64\n",
            "\n",
            "Distribución de Servicio_Cine:\n",
            "Servicio_Cine\n",
            "No                     2866\n",
            "Yes                    2815\n",
            "No internet service    1575\n",
            "Name: count, dtype: int64\n",
            "\n",
            "Distribución de Tipo_Contrato:\n",
            "Tipo_Contrato\n",
            "Month-to-month    4005\n",
            "Two year          1733\n",
            "One year          1518\n",
            "Name: count, dtype: int64\n",
            "\n",
            "Distribución de Factura_Electrónica:\n",
            "Factura_Electrónica\n",
            "1    4308\n",
            "0    2948\n",
            "Name: count, dtype: int64\n",
            "\n",
            "Distribución de Método_Pago:\n",
            "Método_Pago\n",
            "Electronic check             2445\n",
            "Mailed check                 1657\n",
            "Bank transfer (automatic)    1587\n",
            "Credit card (automatic)      1567\n",
            "Name: count, dtype: int64\n"
          ]
        }
      ]
    },
    {
      "cell_type": "markdown",
      "source": [
        "### **Interpretación de la distribución de valores categóricos**\n",
        "Interpretación:\n",
        "1. Cancelación de Clientes\n",
        "- 1869 clientes han cancelado (26.6% del total). Identificar qué características tienen en común estos clientes es clave para entender la evasión.\n",
        "\n",
        "2. Demografía y Estado Familiar\n",
        "- Género: La distribución entre hombres (3669) y mujeres (3587) es casi equitativa, lo que sugiere que el género no es un factor clave en la cancelación.\n",
        "- Pareja: 3747 clientes no tienen pareja, mientras que 3509 sí tienen. La diferencia es menor, pero si los clientes sin pareja cancelan más, podría indicar que buscan reducir costos.\n",
        "- Dependientes: 5086 clientes no tienen dependientes, mientras que 2170 sí tienen. Es posible que los clientes con dependientes sean más cautelosos con cambios de servicio debido a estabilidad familiar, por lo que podrían tener menor tasa de cancelación.\n",
        "\n",
        "3. Servicios Contratados\n",
        "- Servicio de Teléfono: La mayoría de los clientes sí tienen servicio telefónico (6551), mientras que solo 705 no. Esto indica que la telefonía no es un factor determinante en la cancelación.\n",
        "- Líneas Múltiples: 3061 clientes sí tienen líneas múltiples, y 3490 no. Podría ser interesante analizar si quienes contratan más líneas permanecen más tiempo por mayor uso del servicio.\n",
        "- Proveedor de Internet: Fiber optic lidera (3198), seguido por DSL (2483) y No tiene Internet (1575). Es importante investigar si los clientes sin servicio de internet son más propensos a cancelar.\n",
        "\n",
        "4. Servicios Adicionales\n",
        "Las siguientes categorías muestran una tendencia clara:\n",
        "- Muchos clientes no tienen seguridad online (3607).\n",
        "- Respaldo online tiene una distribución equilibrada entre los que lo tienen y los que no.\n",
        "- La mayoría de los clientes no tienen protección de dispositivo, soporte técnico, servicio de TV ni servicio de cine.\n",
        "Esto sugiere que los clientes con menos servicios contratados pueden sentir menor valor en el servicio y cancelar más frecuentemente.\n",
        "\n",
        "5. Tipo de Contrato y Facturación\n",
        "- Contrato Month-to-month es el más común (4005 clientes) y suele estar asociado con una alta tasa de cancelación, ya que permite terminar el servicio fácilmente.\n",
        "- Factura Electrónica es utilizada por 4308 clientes. Esto sugiere una adopción tecnológica alta.\n",
        "- Método de pago: La mayoría usa cheque electrónico, pero es clave verificar si los clientes que pagan manualmente cancelan más a menudo.\n",
        "\n",
        "Conclusión: Factores de Cancelación\n",
        "- Los clientes con contratos Month-to-month tienen mayor probabilidad de cancelar.\n",
        "- Los clientes sin servicios adicionales (seguridad online, respaldo, soporte técnico, etc.) pueden sentir menor valor y cancelar.\n",
        "- Los clientes sin internet pueden estar en mayor riesgo de churn.\n",
        "- Los clientes que no tienen pareja ni dependientes podrían estar cancelando más.\n",
        "- El método de pago podría estar afectando la retención.\n",
        "\n",
        "\n"
      ],
      "metadata": {
        "id": "JVCoscGWI0qv"
      }
    },
    {
      "cell_type": "code",
      "source": [],
      "metadata": {
        "id": "xQloAJ8pKs0z"
      },
      "execution_count": 18,
      "outputs": []
    },
    {
      "cell_type": "code",
      "source": [
        "# Identificación de posibles valores atípicos\n",
        "import seaborn as sns\n",
        "import matplotlib.pyplot as plt\n",
        "\n",
        "numeric_cols = df_final.select_dtypes(include=['int64', 'float64']).columns\n",
        "\n",
        "plt.figure(figsize=(10,6))\n",
        "sns.boxplot(data=df_final[numeric_cols])\n",
        "plt.xticks(rotation=90)\n",
        "plt.title(\"Detección de valores atípicos\")\n",
        "plt.show()"
      ],
      "metadata": {
        "colab": {
          "base_uri": "https://localhost:8080/",
          "height": 642
        },
        "id": "yvkbEsfGx8ub",
        "outputId": "d2eb726d-d35e-442a-99f1-4f9dc1833dc8"
      },
      "execution_count": 19,
      "outputs": [
        {
          "output_type": "display_data",
          "data": {
            "text/plain": [
              "<Figure size 1000x600 with 1 Axes>"
            ],
            "image/png": "[encoded data removed]"
          },
          "metadata": {}
        }
      ]
    },
    {
      "cell_type": "markdown",
      "source": [
        "### **CONCLUSIÓN PARA CADA VARIABLE**\n",
        " Meses - Pago_Mensual - Pago_Total\n",
        "\n",
        "conclusión final sobre el comportamiento de cada variable, basándote en el análisis del box plot:\n",
        "\n",
        "**Meses:**\n",
        "\n",
        "La variable \"Meses\" muestra una distribución de datos relativamente equilibrada y extendida a lo largo de su rango. La mediana se sitúa aproximadamente en el punto medio del recorrido de los datos, indicando que la mitad de las observaciones se encuentran por debajo y la otra mitad por encima de ese valor central. Los datos están distribuidos de manera bastante simétrica, sin una fuerte concentración en ningún extremo, y abarcan todo el rango posible (de 0 a 1, asumiendo una normalización). No se observan valores atípicos evidentes, sugiriendo que la duración en meses es consistente dentro de los límites esperados.\n",
        "\n",
        "**Pago_Mensual:**\n",
        "\n",
        "\"Pago_Mensual\" presenta un comportamiento similar a \"Meses\" en cuanto a su distribución: es relativamente simétrica y ocupa una buena parte del rango. La mediana se encuentra cercana al centro, lo que implica una distribución equitativa de los pagos mensuales alrededor de este punto. La dispersión de los pagos mensuales (el 50% central de los datos) es considerable, lo que indica una variedad de valores, pero sin que ninguno de ellos se desvíe drásticamente como un valor atípico. Esto sugiere una diversidad en los patrones de pago mensuales, pero dentro de un rango predecible.\n",
        "\n",
        "**Pago_Total:**\n",
        "\n",
        "La variable \"Pago_Total\" exhibe un comportamiento fuertemente sesgado hacia valores bajos, con una concentración significativa de observaciones en el extremo inferior del rango. La mediana es notablemente baja, lo que indica que la gran mayoría de los pagos totales son de pequeña magnitud. A pesar de esta concentración en valores bajos, existe una cola larga y un bigote superior extendido, lo que revela la presencia de algunos \"Pago_Total\" considerablemente más altos. Este patrón es común en datos financieros donde muchos clientes tienen transacciones pequeñas, pero unos pocos realizan transacciones de gran volumen. Aunque no se marcan puntos atípicos individuales, la distribución general indica que los pagos totales altos son menos frecuentes pero pueden alcanzar valores muy elevados."
      ],
      "metadata": {
        "id": "J6kGKgv7zYKG"
      }
    },
    {
      "cell_type": "code",
      "source": [
        "# Distribución de cancelaciones\n",
        "print('|r| ±0.00 - ±0.09: correlación nula.\\n|r| ±0.10 - ±0.19: correlación muy debil.\\n|r| ±0.20 - ±0.49: correlación debil.\\n|r| ±0.50 - ±0.69: correlación moderada.\\n|r| ±0.70 - ±0.84: correlación significativa.\\n|r| ±0.85 - ±0.95: correlación fuerte.\\n|r| ±0.96 - ±1.00: correlación perfecta.')\n"
      ],
      "metadata": {
        "colab": {
          "base_uri": "https://localhost:8080/"
        },
        "id": "lZbZsnQoyA5t",
        "outputId": "88eb432a-0302-4a6d-e1e2-50d9d929e194"
      },
      "execution_count": 20,
      "outputs": [
        {
          "output_type": "stream",
          "name": "stdout",
          "text": [
            "|r| ±0.00 - ±0.09: correlación nula.\n",
            "|r| ±0.10 - ±0.19: correlación muy debil.\n",
            "|r| ±0.20 - ±0.49: correlación debil.\n",
            "|r| ±0.50 - ±0.69: correlación moderada.\n",
            "|r| ±0.70 - ±0.84: correlación significativa.\n",
            "|r| ±0.85 - ±0.95: correlación fuerte.\n",
            "|r| ±0.96 - ±1.00: correlación perfecta.\n"
          ]
        }
      ]
    },
    {
      "cell_type": "code",
      "source": [
        "import seaborn as sns\n",
        "import matplotlib.pyplot as plt\n",
        "\n",
        "# Filtrar solo columnas numéricas\n",
        "numeric_cols = df_final.select_dtypes(include=['int64', 'float64']).columns\n",
        "df_corr = df_final[numeric_cols].corr()  # Calcular correlaciones SOLO en valores numéricos\n",
        "\n",
        "# Graficar mapa de calor\n",
        "plt.figure(figsize=(10,6))\n",
        "sns.heatmap(df_corr, annot=True, cmap=\"coolwarm\", fmt=\".2f\")\n",
        "plt.title(\"Mapa de correlaciones (Solo valores numéricos)\")\n",
        "plt.show()"
      ],
      "metadata": {
        "colab": {
          "base_uri": "https://localhost:8080/",
          "height": 545
        },
        "id": "GYlX1VVsc-bc",
        "outputId": "c2ef9f7b-513a-42b3-b033-44f17270eb27"
      },
      "execution_count": 21,
      "outputs": [
        {
          "output_type": "display_data",
          "data": {
            "text/plain": [
              "<Figure size 1000x600 with 2 Axes>"
            ],
            "image/png": "[encoded data removed]"
          },
          "metadata": {}
        }
      ]
    },
    {
      "cell_type": "markdown",
      "source": [
        "### **Conclusión del Mapa de Correlaciones**\n",
        "\n",
        "Conclusión Final del Comportamiento General de las Variables:\n",
        "\n",
        "En conjunto, este mapa de correlaciones revela que el \"Pago_Total\" está fuertemente influenciado tanto por la duración del servicio (\"Meses\") como por el monto del \"Pago_Mensual\". La variable \"Meses\" tiene la relación más impactante y directa con el \"Pago_Total\", lo que sugiere que la antigüedad del cliente es el principal impulsor de la acumulación del pago total. El \"Pago_Mensual\" también contribuye significativamente al \"Pago_Total\", aunque en menor medida que la duración. Por otro lado, la relación entre la antigüedad del cliente (\"Meses\") y su pago mensual (\"Pago_Mensual\") es la más débil de las tres, lo que implica que el valor del servicio que un cliente elige (reflejado en el pago mensual) no está tan directamente ligado a cuánto tiempo lleva siendo cliente."
      ],
      "metadata": {
        "id": "ylTjAnQC0jVg"
      }
    },
    {
      "cell_type": "code",
      "source": [
        "import seaborn as sns\n",
        "import matplotlib.pyplot as plt\n",
        "\n",
        "# Graficar distribución de clientes activos vs. cancelados\n",
        "plt.figure(figsize=(8,6))\n",
        "sns.countplot(x=df_final[\"Cancelación\"], palette=[\"green\", \"red\"])\n",
        "\n",
        "# Configurar etiquetas\n",
        "plt.xticks([0,1], [\"Clientes Leales\", \"Clientes Cancelados\"])\n",
        "plt.title(\"Distribución de Clientes Activos vs. Cancelados\", fontsize=14)\n",
        "plt.xlabel(\"Estado del Cliente\")\n",
        "plt.ylabel(\"Cantidad\")\n",
        "plt.show()"
      ],
      "metadata": {
        "colab": {
          "base_uri": "https://localhost:8080/",
          "height": 716
        },
        "id": "iER2T78e0F46",
        "outputId": "bf2d2e8e-9524-4bca-9830-460d06c9bb1c"
      },
      "execution_count": 22,
      "outputs": [
        {
          "output_type": "stream",
          "name": "stderr",
          "text": [
            "<ipython-input-22-f11942a5556f>:6: FutureWarning: \n",
            "\n",
            "Passing `palette` without assigning `hue` is deprecated and will be removed in v0.14.0. Assign the `x` variable to `hue` and set `legend=False` for the same effect.\n",
            "\n",
            "  sns.countplot(x=df_final[\"Cancelación\"], palette=[\"green\", \"red\"])\n",
            "<ipython-input-22-f11942a5556f>:6: UserWarning: \n",
            "The palette list has fewer values (2) than needed (3) and will cycle, which may produce an uninterpretable plot.\n",
            "  sns.countplot(x=df_final[\"Cancelación\"], palette=[\"green\", \"red\"])\n"
          ]
        },
        {
          "output_type": "display_data",
          "data": {
            "text/plain": [
              "<Figure size 800x600 with 1 Axes>"
            ],
            "image/png": "[encoded data removed]"
          },
          "metadata": {}
        }
      ]
    }
  ]
}